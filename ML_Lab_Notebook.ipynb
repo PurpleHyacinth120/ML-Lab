{
  "cells": [
    {
      "cell_type": "markdown",
      "metadata": {
        "id": "view-in-github",
        "colab_type": "text"
      },
      "source": [
        "<a href=\"https://colab.research.google.com/github/PurpleHyacinth120/ML-Lab/blob/main/ML_Lab_Notebook.ipynb\" target=\"_parent\"><img src=\"https://colab.research.google.com/assets/colab-badge.svg\" alt=\"Open In Colab\"/></a>"
      ]
    },
    {
      "cell_type": "code",
      "execution_count": null,
      "metadata": {
        "id": "oMOTxLFE9rUz",
        "outputId": "14f9bcf6-7572-4db0-8aba-656b91a50394"
      },
      "outputs": [
        {
          "name": "stdout",
          "output_type": "stream",
          "text": [
            "[1 2 3 6 4 5]\n",
            "[5 4 6 3 2 1]\n"
          ]
        }
      ],
      "source": [
        "import numpy as np\n",
        "arr = np.array([1, 2, 3, 6, 4, 5])\n",
        "print(arr)\n",
        "print(np.flip(arr))"
      ]
    },
    {
      "cell_type": "code",
      "execution_count": null,
      "metadata": {
        "colab": {
          "base_uri": "https://localhost:8080/"
        },
        "id": "RzSPjAUQ9637",
        "outputId": "884bc74f-8c1a-4c5e-db82-26decd69d07e"
      },
      "outputs": [
        {
          "name": "stdout",
          "output_type": "stream",
          "text": [
            "[1 2 3 2 4 5 1 2 3]\n",
            "[1 2 1 2 4 2 3 5 3]\n"
          ]
        }
      ],
      "source": [
        "array1 = np.array([[1, 2, 3], [2, 4, 5], [1, 2, 3]])\n",
        "print(array1.flatten('K'))\n",
        "print(array1.flatten('F'))"
      ]
    },
    {
      "cell_type": "code",
      "execution_count": null,
      "metadata": {
        "colab": {
          "base_uri": "https://localhost:8080/"
        },
        "id": "L3phK0lX-Qt5",
        "outputId": "1665de86-2375-4298-9b74-6bff1904daa3"
      },
      "outputs": [
        {
          "name": "stdout",
          "output_type": "stream",
          "text": [
            "Arrays are equal\n"
          ]
        }
      ],
      "source": [
        "arr1 = np.array([[1, 2], [3, 4]])\n",
        "arr2 = np.array([[1, 2], [3, 4]])\n",
        "if (arr1 == arr2).all() :\n",
        "  print('Arrays are equal')\n",
        "else :\n",
        "  print('Arrays are not equal')"
      ]
    },
    {
      "cell_type": "code",
      "execution_count": null,
      "metadata": {
        "colab": {
          "base_uri": "https://localhost:8080/"
        },
        "id": "e2jCf6vL-iw2",
        "outputId": "54225653-d1b6-4a3e-efe4-8ae652915fe3"
      },
      "outputs": [
        {
          "name": "stdout",
          "output_type": "stream",
          "text": [
            "1 (array([0, 5, 7, 8, 9]),)\n"
          ]
        }
      ],
      "source": [
        "x = np.array([1,2,3,4,5,1,2,1,1,1])\n",
        "val, cnt = np.unique(x, return_counts = True)\n",
        "ind = np.argmax(cnt)\n",
        "mx = cnt[ind]\n",
        "mfv = val[np.where(cnt == mx)]\n",
        "idx = []\n",
        "for p in mfv:\n",
        "  idx.append(np.where(x == p))\n",
        "for i, mf in enumerate(mfv):\n",
        "  print(mfv[i], idx[i])"
      ]
    },
    {
      "cell_type": "code",
      "execution_count": null,
      "metadata": {
        "colab": {
          "base_uri": "https://localhost:8080/"
        },
        "id": "gwMkseGdDkrm",
        "outputId": "2ac6bfaf-2454-4bd4-b266-f4dc2a1c846e"
      },
      "outputs": [
        {
          "name": "stdout",
          "output_type": "stream",
          "text": [
            "1 (array([0, 1, 2]),)\n",
            "3 (array([4, 8, 9]),)\n"
          ]
        }
      ],
      "source": [
        "y = np.array([1, 1, 1, 2, 3, 4, 2, 4, 3, 3, ])\n",
        "val, cnt = np.unique(y, return_counts = True)\n",
        "ind = np.argmax(cnt)\n",
        "mx = cnt[ind]\n",
        "mfv = val[np.where(cnt == mx)]\n",
        "idx = []\n",
        "for p in mfv:\n",
        "  idx.append(np.where(y == p))\n",
        "for i, mf in enumerate(mfv):\n",
        "  print(mfv[i], idx[i])"
      ]
    },
    {
      "cell_type": "code",
      "execution_count": null,
      "metadata": {
        "colab": {
          "base_uri": "https://localhost:8080/"
        },
        "id": "_44kMtdxEICS",
        "outputId": "b6e9f13f-443d-4431-b29b-1fdb5d7b6b8e"
      },
      "outputs": [
        {
          "name": "stdout",
          "output_type": "stream",
          "text": [
            "45\n",
            "[[20  9 16]]\n",
            "[[14]\n",
            " [16]\n",
            " [15]]\n"
          ]
        }
      ],
      "source": [
        "gfg = np.matrix('[4, 1, 9; 12, 3, 1; 4, 5, 6]')\n",
        "print(np.sum(gfg))\n",
        "print(np.sum(gfg, axis = 0))\n",
        "print(np.sum(gfg, axis = 1))"
      ]
    },
    {
      "cell_type": "code",
      "execution_count": null,
      "metadata": {
        "colab": {
          "base_uri": "https://localhost:8080/"
        },
        "id": "KfknKROJEb1h",
        "outputId": "2624939f-ae31-4687-8d7d-364b809504f9"
      },
      "outputs": [
        {
          "name": "stdout",
          "output_type": "stream",
          "text": [
            "Sum of diagonal elements of the matrix is\n",
            " 176\n"
          ]
        }
      ],
      "source": [
        "n_array = np.array([[55, 25, 15],[30, 44, 2],[11, 45, 77]])\n",
        "print('Sum of diagonal elements of the matrix is\\n', np.trace(n_array))\n",
        "eigval, eigvect = np.linalg.eig(n_array)"
      ]
    },
    {
      "cell_type": "code",
      "execution_count": null,
      "metadata": {
        "colab": {
          "base_uri": "https://localhost:8080/"
        },
        "id": "tDvUL7a5LoG1",
        "outputId": "860b0fdc-d20a-445b-abc4-c4b257a0305f"
      },
      "outputs": [
        {
          "name": "stdout",
          "output_type": "stream",
          "text": [
            "Eigen values of the matrix are\n",
            " [98.16835147 28.097044   49.73460452]\n"
          ]
        }
      ],
      "source": [
        "print('Eigen values of the matrix are\\n', eigval)"
      ]
    },
    {
      "cell_type": "code",
      "execution_count": null,
      "metadata": {
        "colab": {
          "base_uri": "https://localhost:8080/"
        },
        "id": "aREXhXtcLr3g",
        "outputId": "451dc805-485f-4d7f-f3de-63f3cff6f89c"
      },
      "outputs": [
        {
          "name": "stdout",
          "output_type": "stream",
          "text": [
            "Eigen vectors of the matrix is\n",
            " [[ 0.4574917   0.34637121 -0.15017693]\n",
            " [ 0.28447814 -0.72784061 -0.4852124 ]\n",
            " [ 0.84248058  0.59184038  0.8614034 ]]\n"
          ]
        }
      ],
      "source": [
        "print('Eigen vectors of the matrix is\\n', eigvect)"
      ]
    },
    {
      "cell_type": "code",
      "execution_count": null,
      "metadata": {
        "colab": {
          "base_uri": "https://localhost:8080/"
        },
        "id": "z8org6OXE09u",
        "outputId": "041bc6e3-67b3-4c87-a8fd-f4cf84094173"
      },
      "outputs": [
        {
          "name": "stdout",
          "output_type": "stream",
          "text": [
            "Inverse of the matrix is\n",
            " [[ 0.02404141 -0.00911212 -0.00444671]\n",
            " [-0.01667882  0.02966905  0.0024785 ]\n",
            " [ 0.00631287 -0.01603732  0.01217379]]\n"
          ]
        }
      ],
      "source": [
        "print('Inverse of the matrix is\\n', np.linalg.inv(n_array))"
      ]
    },
    {
      "cell_type": "code",
      "execution_count": null,
      "metadata": {
        "colab": {
          "base_uri": "https://localhost:8080/"
        },
        "id": "ZWND4NXxLVBR",
        "outputId": "0ab97300-a873-491f-b1eb-fdfed412d8ba"
      },
      "outputs": [
        {
          "name": "stdout",
          "output_type": "stream",
          "text": [
            "Determinant of the matrix is\n",
            " 137180.0000000001\n"
          ]
        }
      ],
      "source": [
        "print('Determinant of the matrix is\\n', np.linalg.det(n_array))"
      ]
    },
    {
      "cell_type": "code",
      "execution_count": null,
      "metadata": {
        "colab": {
          "base_uri": "https://localhost:8080/"
        },
        "id": "Dd7zvRBlL1yb",
        "outputId": "58e00904-30a5-47e4-8401-488129df8397"
      },
      "outputs": [
        {
          "name": "stdout",
          "output_type": "stream",
          "text": [
            "[[16 19]\n",
            " [26 31]]\n"
          ]
        }
      ],
      "source": [
        "p = [[1, 2], [2, 3]]\n",
        "q = [[4, 5], [6, 7]]\n",
        "print(np.matmul(p, q))"
      ]
    },
    {
      "cell_type": "code",
      "execution_count": null,
      "metadata": {
        "colab": {
          "base_uri": "https://localhost:8080/"
        },
        "id": "5eUSemZ2PFz7",
        "outputId": "8a6178ff-30b5-49bc-aa76-f6a2f7ab3e42"
      },
      "outputs": [
        {
          "name": "stdout",
          "output_type": "stream",
          "text": [
            "[[0.5 0.5 0.5 0.5]\n",
            " [0.5 0.5 0.5 0.5]\n",
            " [0.5 0.5 0.5 0.5]\n",
            " [0.5 0.5 0.5 0.5]]\n"
          ]
        }
      ],
      "source": [
        "print(np.cov(p, q))"
      ]
    },
    {
      "cell_type": "code",
      "execution_count": null,
      "metadata": {
        "colab": {
          "base_uri": "https://localhost:8080/"
        },
        "id": "BZ07eNKMPssM",
        "outputId": "8f598ebe-f2a9-4ae4-e73e-e543674afe92"
      },
      "outputs": [
        {
          "name": "stdout",
          "output_type": "stream",
          "text": [
            "[[16 19  5]\n",
            " [26 31  8]\n",
            " [46 55 14]]\n"
          ]
        }
      ],
      "source": [
        "p = [[1, 2], [2, 3], [4, 5]]\n",
        "q = [[4, 5, 1], [6, 7, 2]]\n",
        "print(np.matmul(p, q))"
      ]
    },
    {
      "cell_type": "code",
      "execution_count": null,
      "metadata": {
        "colab": {
          "base_uri": "https://localhost:8080/",
          "height": 280
        },
        "id": "SGNl28_qPxiw",
        "outputId": "d28a43c1-1284-4ba4-d1fd-3c416d15802c"
      },
      "outputs": [
        {
          "ename": "ValueError",
          "evalue": "all the input array dimensions except for the concatenation axis must match exactly, but along dimension 1, the array at index 0 has size 2 and the array at index 1 has size 3",
          "output_type": "error",
          "traceback": [
            "\u001b[1;31m---------------------------------------------------------------------------\u001b[0m",
            "\u001b[1;31mValueError\u001b[0m                                Traceback (most recent call last)",
            "Cell \u001b[1;32mIn[56], line 1\u001b[0m\n\u001b[1;32m----> 1\u001b[0m \u001b[38;5;28mprint\u001b[39m(\u001b[43mnp\u001b[49m\u001b[38;5;241;43m.\u001b[39;49m\u001b[43mcov\u001b[49m\u001b[43m(\u001b[49m\u001b[43mp\u001b[49m\u001b[43m,\u001b[49m\u001b[43m \u001b[49m\u001b[43mq\u001b[49m\u001b[43m)\u001b[49m)\n",
            "File \u001b[1;32mc:\\Python312\\Lib\\site-packages\\numpy\\lib\\_function_base_impl.py:2708\u001b[0m, in \u001b[0;36mcov\u001b[1;34m(m, y, rowvar, bias, ddof, fweights, aweights, dtype)\u001b[0m\n\u001b[0;32m   2706\u001b[0m     \u001b[38;5;28;01mif\u001b[39;00m \u001b[38;5;129;01mnot\u001b[39;00m rowvar \u001b[38;5;129;01mand\u001b[39;00m y\u001b[38;5;241m.\u001b[39mshape[\u001b[38;5;241m0\u001b[39m] \u001b[38;5;241m!=\u001b[39m \u001b[38;5;241m1\u001b[39m:\n\u001b[0;32m   2707\u001b[0m         y \u001b[38;5;241m=\u001b[39m y\u001b[38;5;241m.\u001b[39mT\n\u001b[1;32m-> 2708\u001b[0m     X \u001b[38;5;241m=\u001b[39m \u001b[43mnp\u001b[49m\u001b[38;5;241;43m.\u001b[39;49m\u001b[43mconcatenate\u001b[49m\u001b[43m(\u001b[49m\u001b[43m(\u001b[49m\u001b[43mX\u001b[49m\u001b[43m,\u001b[49m\u001b[43m \u001b[49m\u001b[43my\u001b[49m\u001b[43m)\u001b[49m\u001b[43m,\u001b[49m\u001b[43m \u001b[49m\u001b[43maxis\u001b[49m\u001b[38;5;241;43m=\u001b[39;49m\u001b[38;5;241;43m0\u001b[39;49m\u001b[43m)\u001b[49m\n\u001b[0;32m   2710\u001b[0m \u001b[38;5;28;01mif\u001b[39;00m ddof \u001b[38;5;129;01mis\u001b[39;00m \u001b[38;5;28;01mNone\u001b[39;00m:\n\u001b[0;32m   2711\u001b[0m     \u001b[38;5;28;01mif\u001b[39;00m bias \u001b[38;5;241m==\u001b[39m \u001b[38;5;241m0\u001b[39m:\n",
            "\u001b[1;31mValueError\u001b[0m: all the input array dimensions except for the concatenation axis must match exactly, but along dimension 1, the array at index 0 has size 2 and the array at index 1 has size 3"
          ]
        }
      ],
      "source": [
        "print(np.cov(p, q))"
      ]
    },
    {
      "cell_type": "code",
      "execution_count": null,
      "metadata": {
        "colab": {
          "base_uri": "https://localhost:8080/"
        },
        "id": "f_ltS4nqkXOS",
        "outputId": "1077c77e-4a04-4ce7-801e-92c89c454b4d"
      },
      "outputs": [
        {
          "name": "stdout",
          "output_type": "stream",
          "text": [
            "[[17 52]\n",
            " [13 62]]\n"
          ]
        }
      ],
      "source": [
        "a1 = np.array([[2, 3, 4], [3, 2, 9]])\n",
        "a2 = np.array([[1, 5, 0], [5, 10, 3]])\n",
        "print(np.inner(a1, a2))"
      ]
    },
    {
      "cell_type": "code",
      "execution_count": null,
      "metadata": {
        "colab": {
          "base_uri": "https://localhost:8080/"
        },
        "id": "VsL0nHqqk7YA",
        "outputId": "c463be7e-02e1-474d-bc9b-5ad1e90791b3"
      },
      "outputs": [
        {
          "name": "stdout",
          "output_type": "stream",
          "text": [
            "[[ 2 10  0 10 20  6]\n",
            " [ 3 15  0 15 30  9]\n",
            " [ 4 20  0 20 40 12]\n",
            " [ 3 15  0 15 30  9]\n",
            " [ 2 10  0 10 20  6]\n",
            " [ 9 45  0 45 90 27]]\n"
          ]
        }
      ],
      "source": [
        "print(np.outer(a1, a2))"
      ]
    },
    {
      "cell_type": "code",
      "execution_count": null,
      "metadata": {
        "colab": {
          "base_uri": "https://localhost:8080/",
          "height": 141
        },
        "id": "kF-81olxlxBZ",
        "outputId": "bfd5e91b-7dfa-4dbc-c1bf-8dbb477a1e13"
      },
      "outputs": [
        {
          "ename": "AttributeError",
          "evalue": "'tuple' object has no attribute 'reshape'",
          "output_type": "error",
          "traceback": [
            "\u001b[1;31m---------------------------------------------------------------------------\u001b[0m",
            "\u001b[1;31mAttributeError\u001b[0m                            Traceback (most recent call last)",
            "Cell \u001b[1;32mIn[59], line 1\u001b[0m\n\u001b[1;32m----> 1\u001b[0m \u001b[38;5;28mprint\u001b[39m(np\u001b[38;5;241m.\u001b[39mdstack(\u001b[43mnp\u001b[49m\u001b[38;5;241;43m.\u001b[39;49m\u001b[43mmeshgrid\u001b[49m\u001b[43m(\u001b[49m\u001b[43ma1\u001b[49m\u001b[43m,\u001b[49m\u001b[43m \u001b[49m\u001b[43ma2\u001b[49m\u001b[43m)\u001b[49m\u001b[38;5;241;43m.\u001b[39;49m\u001b[43mreshape\u001b[49m(\u001b[38;5;241m-\u001b[39m\u001b[38;5;241m1\u001b[39m, \u001b[38;5;241m2\u001b[39m)))\n",
            "\u001b[1;31mAttributeError\u001b[0m: 'tuple' object has no attribute 'reshape'"
          ]
        }
      ],
      "source": [
        "print(np.dstack(np.meshgrid(a1, a2).reshape(-1, 2)))"
      ]
    },
    {
      "cell_type": "code",
      "execution_count": null,
      "metadata": {
        "colab": {
          "base_uri": "https://localhost:8080/",
          "height": 158
        },
        "id": "5EOkY3yNnWVV",
        "outputId": "7eaa81df-096c-4be6-c422-e9a9f77c0a56"
      },
      "outputs": [
        {
          "name": "stdout",
          "output_type": "stream",
          "text": [
            "[[1 2 3]\n",
            " [4 5 6]]\n"
          ]
        }
      ],
      "source": [
        "ar = np.array([[1, -2, 3],[-4, 5, -6]])\n",
        "print(np.absolute(ar))"
      ]
    },
    {
      "cell_type": "markdown",
      "metadata": {
        "id": "XWdbiroVPDy2"
      },
      "source": [
        "For each column"
      ]
    },
    {
      "cell_type": "code",
      "execution_count": null,
      "metadata": {
        "id": "XT1Thj5OPDy6",
        "outputId": "abe130f9-2535-4631-d2c4-fc35af3e6136"
      },
      "outputs": [
        {
          "data": {
            "text/plain": [
              "array([-2.75, -0.25, -3.75])"
            ]
          },
          "execution_count": 61,
          "metadata": {},
          "output_type": "execute_result"
        }
      ],
      "source": [
        "#For each column\n",
        "np.percentile(ar, 25, axis = 0)"
      ]
    },
    {
      "cell_type": "code",
      "execution_count": null,
      "metadata": {
        "id": "MiBgDwQ7PDy7",
        "outputId": "f00128b6-144d-47ff-a3ba-105141f41f2b"
      },
      "outputs": [
        {
          "data": {
            "text/plain": [
              "array([-1.5,  1.5, -1.5])"
            ]
          },
          "execution_count": 62,
          "metadata": {},
          "output_type": "execute_result"
        }
      ],
      "source": [
        "np.percentile(ar, 50, axis = 0)"
      ]
    },
    {
      "cell_type": "code",
      "execution_count": null,
      "metadata": {
        "id": "wOlczXiLPDy8",
        "outputId": "7cc17ffe-f737-4b9f-cbc4-40feb3c25b51"
      },
      "outputs": [
        {
          "data": {
            "text/plain": [
              "array([-0.25,  3.25,  0.75])"
            ]
          },
          "execution_count": 63,
          "metadata": {},
          "output_type": "execute_result"
        }
      ],
      "source": [
        "np.percentile(ar, 75, axis = 0)"
      ]
    },
    {
      "cell_type": "markdown",
      "metadata": {
        "id": "9C7NNLW7PDy8"
      },
      "source": [
        "For each row"
      ]
    },
    {
      "cell_type": "code",
      "execution_count": null,
      "metadata": {
        "id": "mXnUkQ3MPDy9",
        "outputId": "7d1fc2a4-c03e-40a9-f33c-5c6187f1b93d"
      },
      "outputs": [
        {
          "data": {
            "text/plain": [
              "array([-0.5, -5. ])"
            ]
          },
          "execution_count": 23,
          "metadata": {},
          "output_type": "execute_result"
        }
      ],
      "source": [
        "np.percentile(ar, 25, axis = 1)\n"
      ]
    },
    {
      "cell_type": "code",
      "execution_count": null,
      "metadata": {
        "id": "3Z__KB45PDy9",
        "outputId": "c4c26172-78ab-4295-8010-a8f3d7b52295"
      },
      "outputs": [
        {
          "data": {
            "text/plain": [
              "array([ 1., -4.])"
            ]
          },
          "execution_count": 25,
          "metadata": {},
          "output_type": "execute_result"
        }
      ],
      "source": [
        "np.percentile(ar, 50, axis = 1)"
      ]
    },
    {
      "cell_type": "code",
      "execution_count": null,
      "metadata": {
        "id": "ESLJ-8ATPDy-",
        "outputId": "74f78181-1036-4e3c-d10e-6ff9867867ee"
      },
      "outputs": [
        {
          "data": {
            "text/plain": [
              "array([2. , 0.5])"
            ]
          },
          "execution_count": 26,
          "metadata": {},
          "output_type": "execute_result"
        }
      ],
      "source": [
        "np.percentile(ar, 75, axis = 1)"
      ]
    },
    {
      "cell_type": "code",
      "execution_count": null,
      "metadata": {
        "id": "yG07-GrvPDy_",
        "outputId": "dd751d04-37bc-427f-f373-4f2d0c7b30ee"
      },
      "outputs": [
        {
          "data": {
            "text/plain": [
              "np.float64(-3.5)"
            ]
          },
          "execution_count": 44,
          "metadata": {},
          "output_type": "execute_result"
        }
      ],
      "source": [
        "np.percentile(ar, 25)"
      ]
    },
    {
      "cell_type": "code",
      "execution_count": null,
      "metadata": {
        "id": "vL1jErDIPDzA",
        "outputId": "eca43fe4-38b4-4c6b-c5d6-c250743e814d"
      },
      "outputs": [
        {
          "data": {
            "text/plain": [
              "np.float64(-0.5)"
            ]
          },
          "execution_count": 45,
          "metadata": {},
          "output_type": "execute_result"
        }
      ],
      "source": [
        "np.percentile(ar, 50)"
      ]
    },
    {
      "cell_type": "code",
      "execution_count": null,
      "metadata": {
        "id": "xXFPuYHtPDzB",
        "outputId": "6f303a85-83d0-4595-ad15-e8faff359d6e"
      },
      "outputs": [
        {
          "data": {
            "text/plain": [
              "np.float64(2.5)"
            ]
          },
          "execution_count": 46,
          "metadata": {},
          "output_type": "execute_result"
        }
      ],
      "source": [
        "np.percentile(ar, 75)"
      ]
    },
    {
      "cell_type": "markdown",
      "metadata": {
        "id": "PAUWbkmbPDzB"
      },
      "source": [
        "For each column"
      ]
    },
    {
      "cell_type": "code",
      "execution_count": null,
      "metadata": {
        "id": "d34bMVMjPDzC",
        "outputId": "110f65d0-b7c1-43aa-a81e-b5d08e97bf24"
      },
      "outputs": [
        {
          "data": {
            "text/plain": [
              "array([-1.5,  1.5, -1.5])"
            ]
          },
          "execution_count": 36,
          "metadata": {},
          "output_type": "execute_result"
        }
      ],
      "source": [
        "np.mean(ar, axis = 0)"
      ]
    },
    {
      "cell_type": "code",
      "execution_count": null,
      "metadata": {
        "id": "7u4Q2n-tPDzC",
        "outputId": "199edc6c-fcf1-41a8-ca99-5082499f08b0"
      },
      "outputs": [
        {
          "data": {
            "text/plain": [
              "array([-1.5,  1.5, -1.5])"
            ]
          },
          "execution_count": 34,
          "metadata": {},
          "output_type": "execute_result"
        }
      ],
      "source": [
        "np.median(ar, axis = 0)"
      ]
    },
    {
      "cell_type": "code",
      "execution_count": null,
      "metadata": {
        "id": "EKjDN0BvPDzD",
        "outputId": "e2b84473-aa74-471d-f622-b5f30b92fa16"
      },
      "outputs": [
        {
          "data": {
            "text/plain": [
              "array([2.5, 3.5, 4.5])"
            ]
          },
          "execution_count": 35,
          "metadata": {},
          "output_type": "execute_result"
        }
      ],
      "source": [
        "np.std(ar, axis = 0)"
      ]
    },
    {
      "cell_type": "code",
      "execution_count": null,
      "metadata": {
        "id": "lOy2KB03PDzE",
        "outputId": "4355b705-3c2e-4fc7-9cfa-e5b7d27844c9"
      },
      "outputs": [
        {
          "data": {
            "text/plain": [
              "array([ 0.66666667, -1.66666667])"
            ]
          },
          "execution_count": 37,
          "metadata": {},
          "output_type": "execute_result"
        }
      ],
      "source": [
        "np.mean(ar, axis = 1)"
      ]
    },
    {
      "cell_type": "code",
      "execution_count": null,
      "metadata": {
        "id": "KoLkBvRiPDzF",
        "outputId": "65103411-5fe5-4dd9-8c07-27bda0b6a6ea"
      },
      "outputs": [
        {
          "data": {
            "text/plain": [
              "array([ 1., -4.])"
            ]
          },
          "execution_count": 38,
          "metadata": {},
          "output_type": "execute_result"
        }
      ],
      "source": [
        "np.median(ar, axis = 1)"
      ]
    },
    {
      "cell_type": "code",
      "execution_count": null,
      "metadata": {
        "id": "y63oaxpAPDzG",
        "outputId": "a7c8086d-abda-4b2c-b53c-2da6cbe789ab"
      },
      "outputs": [
        {
          "data": {
            "text/plain": [
              "array([2.05480467, 4.78423336])"
            ]
          },
          "execution_count": 39,
          "metadata": {},
          "output_type": "execute_result"
        }
      ],
      "source": [
        "np.std(ar, axis = 1)"
      ]
    },
    {
      "cell_type": "code",
      "execution_count": null,
      "metadata": {
        "id": "tCpgcbZ3PDzH",
        "outputId": "d5fae1f7-6e53-483f-e5c5-953826f82667"
      },
      "outputs": [
        {
          "data": {
            "text/plain": [
              "np.float64(-0.5)"
            ]
          },
          "execution_count": 40,
          "metadata": {},
          "output_type": "execute_result"
        }
      ],
      "source": [
        "np.mean(ar)"
      ]
    },
    {
      "cell_type": "code",
      "execution_count": null,
      "metadata": {
        "id": "n7c5DNZoPDzI",
        "outputId": "2d456b30-87e8-4f97-83f3-dedcddb58edd"
      },
      "outputs": [
        {
          "data": {
            "text/plain": [
              "np.float64(-0.5)"
            ]
          },
          "execution_count": 41,
          "metadata": {},
          "output_type": "execute_result"
        }
      ],
      "source": [
        "np.median(ar)"
      ]
    },
    {
      "cell_type": "code",
      "execution_count": null,
      "metadata": {
        "id": "L3jIjmshPDze",
        "outputId": "88c059a9-3aa6-44ce-8b5d-d9ff72c80ac8"
      },
      "outputs": [
        {
          "data": {
            "text/plain": [
              "np.float64(3.8622100754188224)"
            ]
          },
          "execution_count": 42,
          "metadata": {},
          "output_type": "execute_result"
        }
      ],
      "source": [
        "np.std(ar)"
      ]
    },
    {
      "cell_type": "code",
      "execution_count": null,
      "metadata": {
        "id": "yaomt78aPDzf",
        "outputId": "1a4542bb-06e4-4ec5-c6c9-1c4c7787cc47"
      },
      "outputs": [
        {
          "data": {
            "text/plain": [
              "array([-1., -1., -0.,  0.,  1.,  1.,  3.])"
            ]
          },
          "execution_count": 66,
          "metadata": {},
          "output_type": "execute_result"
        }
      ],
      "source": [
        "a = np.array([-1.8, -1.6, -0.5, 0.5,1.6, 1.8, 3.0])\n",
        "np.floor(a)"
      ]
    },
    {
      "cell_type": "code",
      "execution_count": null,
      "metadata": {
        "id": "7wzBOMhfPDzf",
        "outputId": "64fbab5a-5c07-4ed9-fad2-7d7a724fd311"
      },
      "outputs": [
        {
          "data": {
            "text/plain": [
              "array([-1., -1., -0.,  0.,  1.,  1.,  3.])"
            ]
          },
          "execution_count": 67,
          "metadata": {},
          "output_type": "execute_result"
        }
      ],
      "source": [
        "np.trunc(a)"
      ]
    },
    {
      "cell_type": "code",
      "execution_count": null,
      "metadata": {
        "id": "Uh5sBboWPDzg",
        "outputId": "438257ec-8655-43d6-f40e-ce4f311faf27"
      },
      "outputs": [
        {
          "data": {
            "text/plain": [
              "array([-1., -1., -0.,  1.,  2.,  2.,  3.])"
            ]
          },
          "execution_count": 68,
          "metadata": {},
          "output_type": "execute_result"
        }
      ],
      "source": [
        "np.ceil(a)"
      ]
    },
    {
      "cell_type": "code",
      "execution_count": null,
      "metadata": {
        "id": "eY8YrgHuPDzh",
        "outputId": "4b93c264-5a1d-4348-9b25-23412391b979"
      },
      "outputs": [
        {
          "data": {
            "text/plain": [
              "array([-2., -2., -0.,  0.,  2.,  2.,  3.])"
            ]
          },
          "execution_count": 69,
          "metadata": {},
          "output_type": "execute_result"
        }
      ],
      "source": [
        "np.round(a)"
      ]
    },
    {
      "cell_type": "markdown",
      "metadata": {
        "id": "H64Rl-47PDzh"
      },
      "source": [
        "Q3: Based on Searching and Sorting\n",
        "(a) For the array: array = np.array([10, 52, 62, 16, 16, 54, 453]), find"
      ]
    },
    {
      "cell_type": "markdown",
      "metadata": {
        "id": "IsR2J6ILPDzh"
      },
      "source": [
        "i. Sorted array"
      ]
    },
    {
      "cell_type": "code",
      "execution_count": null,
      "metadata": {
        "id": "lVee2aZOPDzi",
        "outputId": "e31e82e6-9d79-45c9-c8de-79fd884af663"
      },
      "outputs": [
        {
          "data": {
            "text/plain": [
              "array([ 10,  16,  16,  52,  54,  62, 453])"
            ]
          },
          "execution_count": 70,
          "metadata": {},
          "output_type": "execute_result"
        }
      ],
      "source": [
        "array = np.array([10, 52, 62, 16, 16, 54, 453])\n",
        "np.sort(array)"
      ]
    },
    {
      "cell_type": "markdown",
      "metadata": {
        "id": "YiZl_4VDPDzi"
      },
      "source": [
        "ii. Indices of sorted array"
      ]
    },
    {
      "cell_type": "code",
      "execution_count": null,
      "metadata": {
        "id": "sjYMstqKPDzj",
        "outputId": "22304165-bbfe-4617-c07d-35e0d66fe415"
      },
      "outputs": [
        {
          "data": {
            "text/plain": [
              "array([0, 3, 4, 1, 5, 2, 6])"
            ]
          },
          "execution_count": 81,
          "metadata": {},
          "output_type": "execute_result"
        }
      ],
      "source": [
        "np.argsort(array)"
      ]
    },
    {
      "cell_type": "markdown",
      "metadata": {
        "id": "vpy8WTB-PDzj"
      },
      "source": [
        "iii. 4 smallest elements"
      ]
    },
    {
      "cell_type": "code",
      "execution_count": null,
      "metadata": {
        "id": "UdJs9euyPDzj",
        "outputId": "06b37e35-60f2-4f10-8ce5-86e2408170f4"
      },
      "outputs": [
        {
          "data": {
            "text/plain": [
              "array([10, 16, 16, 52])"
            ]
          },
          "execution_count": 83,
          "metadata": {},
          "output_type": "execute_result"
        }
      ],
      "source": [
        "array[np.argpartition(array, 4)[:4]]"
      ]
    },
    {
      "cell_type": "markdown",
      "metadata": {
        "id": "6cOrfGdOPDzk"
      },
      "source": [
        "iv. 5 largest elements"
      ]
    },
    {
      "cell_type": "code",
      "execution_count": null,
      "metadata": {
        "id": "Ece0nlsQPDzk",
        "outputId": "aced34ff-b6a4-4476-f8bb-d01fbe610f0e"
      },
      "outputs": [
        {
          "data": {
            "text/plain": [
              "array([10, 16, 16, 52, 54])"
            ]
          },
          "execution_count": 85,
          "metadata": {},
          "output_type": "execute_result"
        }
      ],
      "source": [
        "array[np.argpartition(array, -5)[:5]]"
      ]
    },
    {
      "cell_type": "markdown",
      "metadata": {
        "id": "eiuNGYU1PDzl"
      },
      "source": []
    },
    {
      "cell_type": "code",
      "execution_count": null,
      "metadata": {
        "id": "Un3QgBPePDzm",
        "outputId": "8b7306c1-0ac2-4458-b9c3-77ca61240a78"
      },
      "outputs": [
        {
          "name": "stdout",
          "output_type": "stream",
          "text": [
            "[1.0, 2.0, 3.0, 2.0, 5]\n",
            "[1.2, 2.2]\n"
          ]
        }
      ],
      "source": [
        "array = np.array([1.0, 1.2, 2.2, 2.0, 3.0, 2.0, 5], dtype = object)\n",
        "integer_arr = []\n",
        "float_arr = []\n",
        "for i in array :\n",
        "    if np.equal(np.mod(i, 1), 0) :\n",
        "        integer_arr.append(i)\n",
        "    else:\n",
        "        float_arr.append(i)\n",
        "print(integer_arr)\n",
        "print(float_arr)"
      ]
    },
    {
      "cell_type": "markdown",
      "metadata": {
        "id": "Z68XbQ5MPDzn"
      },
      "source": [
        "Q4:\n",
        "(a) Write a function named img_to_array(path) that reads an image from a specified path and\n",
        "save it as text file on local machine? (Note: use separate cases for RGB and Grey Scale\n",
        "images)"
      ]
    },
    {
      "cell_type": "code",
      "execution_count": null,
      "metadata": {
        "id": "UnBQvHciPDzo"
      },
      "outputs": [],
      "source": [
        "from PIL import Image"
      ]
    },
    {
      "cell_type": "code",
      "execution_count": null,
      "metadata": {
        "id": "Br8FtOliPDzp"
      },
      "outputs": [],
      "source": [
        "def img_to_array(path):\n",
        "  img = Image.open(path)\n",
        "  if img.mode == 'RGB':\n",
        "    arr = np.array(img)\n",
        "    with open('rgb_image.txt', 'w') as f:\n",
        "      for row in arr:\n",
        "        np.savetxt(f, row, fmt='%d')\n",
        "  elif img.mode == 'L':\n",
        "    arr = np.array(img)\n",
        "    with open('grey_scale_image.txt', 'w') as f:\n",
        "      np.savetxt(f, arr, fmt='%d')"
      ]
    },
    {
      "cell_type": "code",
      "execution_count": null,
      "metadata": {
        "id": "E6E3UEexPDzp"
      },
      "outputs": [],
      "source": [
        "imagepath = 'C:/Users/HP/Documents/.vscode/Edge AI/Annotation app/Images/aachen_000005_000019_leftImg8bit_foggy_beta_0.02_fake_0.png'\n",
        "img_to_array(imagepath)"
      ]
    },
    {
      "cell_type": "code",
      "execution_count": null,
      "metadata": {
        "id": "u_DA3XgjPDzq"
      },
      "outputs": [],
      "source": [
        "imagepath = 'C:/Users/HP/Downloads/gray_scale.jpeg'\n",
        "img_to_array(imagepath)"
      ]
    },
    {
      "cell_type": "markdown",
      "metadata": {
        "id": "0MlKmUIJPDzq"
      },
      "source": [
        "(b) Load the saved file into jupyter notebook?"
      ]
    },
    {
      "cell_type": "code",
      "execution_count": null,
      "metadata": {
        "id": "czCBBRITPDzq",
        "outputId": "9ddd78ce-0df8-49ba-fcf9-975cfb9e5ae5"
      },
      "outputs": [
        {
          "data": {
            "text/plain": [
              "array([[40., 49., 49.],\n",
              "       [34., 47., 46.],\n",
              "       [34., 46., 46.],\n",
              "       ...,\n",
              "       [42., 55., 49.],\n",
              "       [39., 54., 47.],\n",
              "       [41., 54., 47.]])"
            ]
          },
          "execution_count": 102,
          "metadata": {},
          "output_type": "execute_result"
        }
      ],
      "source": [
        "np.loadtxt('rgb_image.txt')"
      ]
    },
    {
      "cell_type": "code",
      "execution_count": null,
      "metadata": {
        "id": "yIQYGvBuPDzr",
        "outputId": "63e83000-caea-4858-cfe9-1e6cdefa10ec"
      },
      "outputs": [
        {
          "data": {
            "text/plain": [
              "array([[149., 152., 156., ...,  74.,  74.,  74.],\n",
              "       [157., 159., 161., ...,  74.,  74.,  74.],\n",
              "       [165., 167., 168., ...,  74.,  74.,  74.],\n",
              "       ...,\n",
              "       [192., 192., 192., ..., 190., 188., 187.],\n",
              "       [192., 192., 192., ..., 190., 188., 187.],\n",
              "       [192., 192., 192., ..., 190., 188., 187.]])"
            ]
          },
          "execution_count": 106,
          "metadata": {},
          "output_type": "execute_result"
        }
      ],
      "source": [
        "np.loadtxt('grey_scale_image.txt')"
      ]
    }
  ],
  "metadata": {
    "colab": {
      "provenance": [],
      "include_colab_link": true
    },
    "kernelspec": {
      "display_name": "Python 3",
      "name": "python3"
    },
    "language_info": {
      "codemirror_mode": {
        "name": "ipython",
        "version": 3
      },
      "file_extension": ".py",
      "mimetype": "text/x-python",
      "name": "python",
      "nbconvert_exporter": "python",
      "pygments_lexer": "ipython3",
      "version": "3.12.1"
    }
  },
  "nbformat": 4,
  "nbformat_minor": 0
}