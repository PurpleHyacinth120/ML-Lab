{
  "cells": [
    {
      "cell_type": "markdown",
      "metadata": {
        "id": "view-in-github",
        "colab_type": "text"
      },
      "source": [
        "<a href=\"https://colab.research.google.com/github/PurpleHyacinth120/ML-Lab/blob/main/ML_Lab_Notebook.ipynb\" target=\"_parent\"><img src=\"https://colab.research.google.com/assets/colab-badge.svg\" alt=\"Open In Colab\"/></a>"
      ]
    },
    {
      "cell_type": "code",
      "execution_count": null,
      "metadata": {
        "id": "oMOTxLFE9rUz",
        "colab": {
          "base_uri": "https://localhost:8080/"
        },
        "outputId": "d77e594d-d0d2-4549-e992-5ae1af45fdb8"
      },
      "outputs": [
        {
          "output_type": "stream",
          "name": "stdout",
          "text": [
            "[1 2 3 6 4 5]\n",
            "[5 4 6 3 2 1]\n"
          ]
        }
      ],
      "source": [
        "import numpy as np\n",
        "arr = np.array([1, 2, 3, 6, 4, 5])\n",
        "print(arr)\n",
        "print(np.flip(arr))"
      ]
    },
    {
      "cell_type": "code",
      "execution_count": null,
      "metadata": {
        "colab": {
          "base_uri": "https://localhost:8080/"
        },
        "id": "RzSPjAUQ9637",
        "outputId": "212e8b7f-cde9-44dd-85e0-deb32aabb608"
      },
      "outputs": [
        {
          "output_type": "stream",
          "name": "stdout",
          "text": [
            "[1 2 3 2 4 5 1 2 3]\n",
            "[1 2 1 2 4 2 3 5 3]\n"
          ]
        }
      ],
      "source": [
        "array1 = np.array([[1, 2, 3], [2, 4, 5], [1, 2, 3]])\n",
        "print(array1.flatten('K'))\n",
        "print(array1.flatten('F'))"
      ]
    },
    {
      "cell_type": "code",
      "execution_count": null,
      "metadata": {
        "colab": {
          "base_uri": "https://localhost:8080/"
        },
        "id": "L3phK0lX-Qt5",
        "outputId": "6ee2df8b-e8c4-463f-a805-6546935e6b15"
      },
      "outputs": [
        {
          "output_type": "stream",
          "name": "stdout",
          "text": [
            "Arrays are equal\n"
          ]
        }
      ],
      "source": [
        "arr1 = np.array([[1, 2], [3, 4]])\n",
        "arr2 = np.array([[1, 2], [3, 4]])\n",
        "if (arr1 == arr2).all() :\n",
        "  print('Arrays are equal')\n",
        "else :\n",
        "  print('Arrays are not equal')"
      ]
    },
    {
      "cell_type": "code",
      "execution_count": null,
      "metadata": {
        "colab": {
          "base_uri": "https://localhost:8080/"
        },
        "id": "e2jCf6vL-iw2",
        "outputId": "0eb6fe65-f153-4ceb-ac6e-6d846b9c3516"
      },
      "outputs": [
        {
          "output_type": "stream",
          "name": "stdout",
          "text": [
            "1 (array([0, 5, 7, 8, 9]),)\n"
          ]
        }
      ],
      "source": [
        "x = np.array([1,2,3,4,5,1,2,1,1,1])\n",
        "val, cnt = np.unique(x, return_counts = True)\n",
        "ind = np.argmax(cnt)\n",
        "mx = cnt[ind]\n",
        "mfv = val[np.where(cnt == mx)]\n",
        "idx = []\n",
        "for p in mfv:\n",
        "  idx.append(np.where(x == p))\n",
        "for i, mf in enumerate(mfv):\n",
        "  print(mfv[i], idx[i])"
      ]
    },
    {
      "cell_type": "code",
      "execution_count": null,
      "metadata": {
        "colab": {
          "base_uri": "https://localhost:8080/"
        },
        "id": "gwMkseGdDkrm",
        "outputId": "62714c77-aba7-4c11-90af-2aa55c401573"
      },
      "outputs": [
        {
          "output_type": "stream",
          "name": "stdout",
          "text": [
            "1 (array([0, 1, 2]),)\n",
            "3 (array([4, 8, 9]),)\n"
          ]
        }
      ],
      "source": [
        "y = np.array([1, 1, 1, 2, 3, 4, 2, 4, 3, 3, ])\n",
        "val, cnt = np.unique(y, return_counts = True)\n",
        "ind = np.argmax(cnt)\n",
        "mx = cnt[ind]\n",
        "mfv = val[np.where(cnt == mx)]\n",
        "idx = []\n",
        "for p in mfv:\n",
        "  idx.append(np.where(y == p))\n",
        "for i, mf in enumerate(mfv):\n",
        "  print(mfv[i], idx[i])"
      ]
    },
    {
      "cell_type": "code",
      "execution_count": null,
      "metadata": {
        "colab": {
          "base_uri": "https://localhost:8080/"
        },
        "id": "_44kMtdxEICS",
        "outputId": "6b5bc9b4-2bbe-45e6-df1b-853ae2e0585e"
      },
      "outputs": [
        {
          "output_type": "stream",
          "name": "stdout",
          "text": [
            "45\n",
            "[[20  9 16]]\n",
            "[[14]\n",
            " [16]\n",
            " [15]]\n"
          ]
        }
      ],
      "source": [
        "gfg = np.matrix('[4, 1, 9; 12, 3, 1; 4, 5, 6]')\n",
        "print(np.sum(gfg))\n",
        "print(np.sum(gfg, axis = 0))\n",
        "print(np.sum(gfg, axis = 1))"
      ]
    },
    {
      "cell_type": "code",
      "execution_count": null,
      "metadata": {
        "colab": {
          "base_uri": "https://localhost:8080/"
        },
        "id": "KfknKROJEb1h",
        "outputId": "c2d5552c-5266-485c-cdae-3bf25da92b6f"
      },
      "outputs": [
        {
          "output_type": "stream",
          "name": "stdout",
          "text": [
            "Sum of diagonal elements of the matrix is\n",
            " 176\n"
          ]
        }
      ],
      "source": [
        "n_array = np.array([[55, 25, 15],[30, 44, 2],[11, 45, 77]])\n",
        "print('Sum of diagonal elements of the matrix is\\n', np.trace(n_array))\n",
        "eigval, eigvect = np.linalg.eig(n_array)"
      ]
    },
    {
      "cell_type": "code",
      "execution_count": null,
      "metadata": {
        "colab": {
          "base_uri": "https://localhost:8080/"
        },
        "id": "tDvUL7a5LoG1",
        "outputId": "1e58a6f9-1474-462f-e037-9d5f76f84e3f"
      },
      "outputs": [
        {
          "output_type": "stream",
          "name": "stdout",
          "text": [
            "Eigen values of the matrix are\n",
            " [98.16835147 28.097044   49.73460452]\n"
          ]
        }
      ],
      "source": [
        "print('Eigen values of the matrix are\\n', eigval)"
      ]
    },
    {
      "cell_type": "code",
      "execution_count": null,
      "metadata": {
        "colab": {
          "base_uri": "https://localhost:8080/"
        },
        "id": "aREXhXtcLr3g",
        "outputId": "8434f607-8aa2-429e-81cc-c4ddd5cfaa12"
      },
      "outputs": [
        {
          "output_type": "stream",
          "name": "stdout",
          "text": [
            "Eigen vectors of the matrix is\n",
            " [[ 0.4574917   0.34637121 -0.15017693]\n",
            " [ 0.28447814 -0.72784061 -0.4852124 ]\n",
            " [ 0.84248058  0.59184038  0.8614034 ]]\n"
          ]
        }
      ],
      "source": [
        "print('Eigen vectors of the matrix is\\n', eigvect)"
      ]
    },
    {
      "cell_type": "code",
      "execution_count": null,
      "metadata": {
        "colab": {
          "base_uri": "https://localhost:8080/"
        },
        "id": "z8org6OXE09u",
        "outputId": "a7170faf-462b-482a-a7ef-204ed16fd486"
      },
      "outputs": [
        {
          "output_type": "stream",
          "name": "stdout",
          "text": [
            "Inverse of the matrix is\n",
            " [[ 0.02404141 -0.00911212 -0.00444671]\n",
            " [-0.01667882  0.02966905  0.0024785 ]\n",
            " [ 0.00631287 -0.01603732  0.01217379]]\n"
          ]
        }
      ],
      "source": [
        "print('Inverse of the matrix is\\n', np.linalg.inv(n_array))"
      ]
    },
    {
      "cell_type": "code",
      "execution_count": null,
      "metadata": {
        "colab": {
          "base_uri": "https://localhost:8080/"
        },
        "id": "ZWND4NXxLVBR",
        "outputId": "fd1b251b-c195-4169-e65c-0d9ed00a4da9"
      },
      "outputs": [
        {
          "output_type": "stream",
          "name": "stdout",
          "text": [
            "Determinant of the matrix is\n",
            " 137180.0000000001\n"
          ]
        }
      ],
      "source": [
        "print('Determinant of the matrix is\\n', np.linalg.det(n_array))"
      ]
    },
    {
      "cell_type": "code",
      "execution_count": null,
      "metadata": {
        "colab": {
          "base_uri": "https://localhost:8080/"
        },
        "id": "Dd7zvRBlL1yb",
        "outputId": "c5e11fd0-5398-4cfd-fbf8-20b328e9e530"
      },
      "outputs": [
        {
          "output_type": "stream",
          "name": "stdout",
          "text": [
            "[[16 19]\n",
            " [26 31]]\n"
          ]
        }
      ],
      "source": [
        "p = [[1, 2], [2, 3]]\n",
        "q = [[4, 5], [6, 7]]\n",
        "print(np.matmul(p, q))"
      ]
    },
    {
      "cell_type": "code",
      "execution_count": null,
      "metadata": {
        "colab": {
          "base_uri": "https://localhost:8080/"
        },
        "id": "5eUSemZ2PFz7",
        "outputId": "b9e925b5-602a-405e-9980-76f8bfd2ef3d"
      },
      "outputs": [
        {
          "output_type": "stream",
          "name": "stdout",
          "text": [
            "[[0.5 0.5 0.5 0.5]\n",
            " [0.5 0.5 0.5 0.5]\n",
            " [0.5 0.5 0.5 0.5]\n",
            " [0.5 0.5 0.5 0.5]]\n"
          ]
        }
      ],
      "source": [
        "print(np.cov(p, q))"
      ]
    },
    {
      "cell_type": "code",
      "execution_count": null,
      "metadata": {
        "colab": {
          "base_uri": "https://localhost:8080/"
        },
        "id": "BZ07eNKMPssM",
        "outputId": "c72f8f85-a09d-4b18-f06d-fe91dbfab87c"
      },
      "outputs": [
        {
          "output_type": "stream",
          "name": "stdout",
          "text": [
            "[[16 19  5]\n",
            " [26 31  8]\n",
            " [46 55 14]]\n"
          ]
        }
      ],
      "source": [
        "p = [[1, 2], [2, 3], [4, 5]]\n",
        "q = [[4, 5, 1], [6, 7, 2]]\n",
        "print(np.matmul(p, q))"
      ]
    },
    {
      "cell_type": "code",
      "execution_count": null,
      "metadata": {
        "colab": {
          "base_uri": "https://localhost:8080/",
          "height": 280
        },
        "id": "SGNl28_qPxiw",
        "outputId": "3dfa509b-37dc-43cc-9b43-44fa793d5a7a"
      },
      "outputs": [
        {
          "output_type": "error",
          "ename": "ValueError",
          "evalue": "all the input array dimensions except for the concatenation axis must match exactly, but along dimension 1, the array at index 0 has size 2 and the array at index 1 has size 3",
          "traceback": [
            "\u001b[0;31m---------------------------------------------------------------------------\u001b[0m",
            "\u001b[0;31mValueError\u001b[0m                                Traceback (most recent call last)",
            "\u001b[0;32m<ipython-input-17-4b02cfd9697b>\u001b[0m in \u001b[0;36m<cell line: 1>\u001b[0;34m()\u001b[0m\n\u001b[0;32m----> 1\u001b[0;31m \u001b[0mprint\u001b[0m\u001b[0;34m(\u001b[0m\u001b[0mnp\u001b[0m\u001b[0;34m.\u001b[0m\u001b[0mcov\u001b[0m\u001b[0;34m(\u001b[0m\u001b[0mp\u001b[0m\u001b[0;34m,\u001b[0m \u001b[0mq\u001b[0m\u001b[0;34m)\u001b[0m\u001b[0;34m)\u001b[0m\u001b[0;34m\u001b[0m\u001b[0;34m\u001b[0m\u001b[0m\n\u001b[0m",
            "\u001b[0;32m/usr/local/lib/python3.10/dist-packages/numpy/lib/function_base.py\u001b[0m in \u001b[0;36mcov\u001b[0;34m(m, y, rowvar, bias, ddof, fweights, aweights, dtype)\u001b[0m\n\u001b[1;32m   2681\u001b[0m         \u001b[0;32mif\u001b[0m \u001b[0;32mnot\u001b[0m \u001b[0mrowvar\u001b[0m \u001b[0;32mand\u001b[0m \u001b[0my\u001b[0m\u001b[0;34m.\u001b[0m\u001b[0mshape\u001b[0m\u001b[0;34m[\u001b[0m\u001b[0;36m0\u001b[0m\u001b[0;34m]\u001b[0m \u001b[0;34m!=\u001b[0m \u001b[0;36m1\u001b[0m\u001b[0;34m:\u001b[0m\u001b[0;34m\u001b[0m\u001b[0;34m\u001b[0m\u001b[0m\n\u001b[1;32m   2682\u001b[0m             \u001b[0my\u001b[0m \u001b[0;34m=\u001b[0m \u001b[0my\u001b[0m\u001b[0;34m.\u001b[0m\u001b[0mT\u001b[0m\u001b[0;34m\u001b[0m\u001b[0;34m\u001b[0m\u001b[0m\n\u001b[0;32m-> 2683\u001b[0;31m         \u001b[0mX\u001b[0m \u001b[0;34m=\u001b[0m \u001b[0mnp\u001b[0m\u001b[0;34m.\u001b[0m\u001b[0mconcatenate\u001b[0m\u001b[0;34m(\u001b[0m\u001b[0;34m(\u001b[0m\u001b[0mX\u001b[0m\u001b[0;34m,\u001b[0m \u001b[0my\u001b[0m\u001b[0;34m)\u001b[0m\u001b[0;34m,\u001b[0m \u001b[0maxis\u001b[0m\u001b[0;34m=\u001b[0m\u001b[0;36m0\u001b[0m\u001b[0;34m)\u001b[0m\u001b[0;34m\u001b[0m\u001b[0;34m\u001b[0m\u001b[0m\n\u001b[0m\u001b[1;32m   2684\u001b[0m \u001b[0;34m\u001b[0m\u001b[0m\n\u001b[1;32m   2685\u001b[0m     \u001b[0;32mif\u001b[0m \u001b[0mddof\u001b[0m \u001b[0;32mis\u001b[0m \u001b[0;32mNone\u001b[0m\u001b[0;34m:\u001b[0m\u001b[0;34m\u001b[0m\u001b[0;34m\u001b[0m\u001b[0m\n",
            "\u001b[0;31mValueError\u001b[0m: all the input array dimensions except for the concatenation axis must match exactly, but along dimension 1, the array at index 0 has size 2 and the array at index 1 has size 3"
          ]
        }
      ],
      "source": [
        "print(np.cov(p, q))"
      ]
    },
    {
      "cell_type": "code",
      "execution_count": null,
      "metadata": {
        "colab": {
          "base_uri": "https://localhost:8080/"
        },
        "id": "f_ltS4nqkXOS",
        "outputId": "18257c1b-3570-4864-e2d6-8c49990b4b6d"
      },
      "outputs": [
        {
          "output_type": "stream",
          "name": "stdout",
          "text": [
            "[[17 52]\n",
            " [13 62]]\n"
          ]
        }
      ],
      "source": [
        "a1 = np.array([[2, 3, 4], [3, 2, 9]])\n",
        "a2 = np.array([[1, 5, 0], [5, 10, 3]])\n",
        "print(np.inner(a1, a2))"
      ]
    },
    {
      "cell_type": "code",
      "execution_count": null,
      "metadata": {
        "colab": {
          "base_uri": "https://localhost:8080/"
        },
        "id": "VsL0nHqqk7YA",
        "outputId": "d2e3af8f-4506-4221-e9c2-ba059d9d0e43"
      },
      "outputs": [
        {
          "output_type": "stream",
          "name": "stdout",
          "text": [
            "[[ 2 10  0 10 20  6]\n",
            " [ 3 15  0 15 30  9]\n",
            " [ 4 20  0 20 40 12]\n",
            " [ 3 15  0 15 30  9]\n",
            " [ 2 10  0 10 20  6]\n",
            " [ 9 45  0 45 90 27]]\n"
          ]
        }
      ],
      "source": [
        "print(np.outer(a1, a2))"
      ]
    },
    {
      "cell_type": "code",
      "execution_count": null,
      "metadata": {
        "colab": {
          "base_uri": "https://localhost:8080/",
          "height": 141
        },
        "id": "kF-81olxlxBZ",
        "outputId": "301fd688-082e-4c80-91db-0707a143e482"
      },
      "outputs": [
        {
          "output_type": "error",
          "ename": "AttributeError",
          "evalue": "'list' object has no attribute 'reshape'",
          "traceback": [
            "\u001b[0;31m---------------------------------------------------------------------------\u001b[0m",
            "\u001b[0;31mAttributeError\u001b[0m                            Traceback (most recent call last)",
            "\u001b[0;32m<ipython-input-20-2e1112f5d87a>\u001b[0m in \u001b[0;36m<cell line: 1>\u001b[0;34m()\u001b[0m\n\u001b[0;32m----> 1\u001b[0;31m \u001b[0mprint\u001b[0m\u001b[0;34m(\u001b[0m\u001b[0mnp\u001b[0m\u001b[0;34m.\u001b[0m\u001b[0mdstack\u001b[0m\u001b[0;34m(\u001b[0m\u001b[0mnp\u001b[0m\u001b[0;34m.\u001b[0m\u001b[0mmeshgrid\u001b[0m\u001b[0;34m(\u001b[0m\u001b[0ma1\u001b[0m\u001b[0;34m,\u001b[0m \u001b[0ma2\u001b[0m\u001b[0;34m)\u001b[0m\u001b[0;34m.\u001b[0m\u001b[0mreshape\u001b[0m\u001b[0;34m(\u001b[0m\u001b[0;34m-\u001b[0m\u001b[0;36m1\u001b[0m\u001b[0;34m,\u001b[0m \u001b[0;36m2\u001b[0m\u001b[0;34m)\u001b[0m\u001b[0;34m)\u001b[0m\u001b[0;34m)\u001b[0m\u001b[0;34m\u001b[0m\u001b[0;34m\u001b[0m\u001b[0m\n\u001b[0m",
            "\u001b[0;31mAttributeError\u001b[0m: 'list' object has no attribute 'reshape'"
          ]
        }
      ],
      "source": [
        "print(np.dstack(np.meshgrid(a1, a2).reshape(-1, 2)))"
      ]
    },
    {
      "cell_type": "code",
      "execution_count": null,
      "metadata": {
        "colab": {
          "base_uri": "https://localhost:8080/"
        },
        "id": "5EOkY3yNnWVV",
        "outputId": "5789042b-3c6e-42ae-e8c6-de6ce3486e3d"
      },
      "outputs": [
        {
          "output_type": "stream",
          "name": "stdout",
          "text": [
            "[[1 2 3]\n",
            " [4 5 6]]\n"
          ]
        }
      ],
      "source": [
        "ar = np.array([[1, -2, 3],[-4, 5, -6]])\n",
        "print(np.absolute(ar))"
      ]
    },
    {
      "cell_type": "markdown",
      "metadata": {
        "id": "XWdbiroVPDy2"
      },
      "source": [
        "For each column"
      ]
    },
    {
      "cell_type": "code",
      "execution_count": null,
      "metadata": {
        "colab": {
          "base_uri": "https://localhost:8080/"
        },
        "id": "XT1Thj5OPDy6",
        "outputId": "a3819177-ee88-4ebf-fea1-183b1ae8e143"
      },
      "outputs": [
        {
          "output_type": "execute_result",
          "data": {
            "text/plain": [
              "array([-2.75, -0.25, -3.75])"
            ]
          },
          "metadata": {},
          "execution_count": 22
        }
      ],
      "source": [
        "#For each column\n",
        "np.percentile(ar, 25, axis = 0)"
      ]
    },
    {
      "cell_type": "code",
      "execution_count": null,
      "metadata": {
        "colab": {
          "base_uri": "https://localhost:8080/"
        },
        "id": "MiBgDwQ7PDy7",
        "outputId": "bb4f4545-97c7-480c-f961-48a7f5f521b9"
      },
      "outputs": [
        {
          "output_type": "execute_result",
          "data": {
            "text/plain": [
              "array([-1.5,  1.5, -1.5])"
            ]
          },
          "metadata": {},
          "execution_count": 23
        }
      ],
      "source": [
        "np.percentile(ar, 50, axis = 0)"
      ]
    },
    {
      "cell_type": "code",
      "execution_count": null,
      "metadata": {
        "colab": {
          "base_uri": "https://localhost:8080/"
        },
        "id": "wOlczXiLPDy8",
        "outputId": "20004326-82e3-4a41-97b9-04780abd231e"
      },
      "outputs": [
        {
          "output_type": "execute_result",
          "data": {
            "text/plain": [
              "array([-0.25,  3.25,  0.75])"
            ]
          },
          "metadata": {},
          "execution_count": 24
        }
      ],
      "source": [
        "np.percentile(ar, 75, axis = 0)"
      ]
    },
    {
      "cell_type": "markdown",
      "metadata": {
        "id": "9C7NNLW7PDy8"
      },
      "source": [
        "For each row"
      ]
    },
    {
      "cell_type": "code",
      "execution_count": null,
      "metadata": {
        "colab": {
          "base_uri": "https://localhost:8080/"
        },
        "id": "mXnUkQ3MPDy9",
        "outputId": "d4829e08-e15a-406a-9832-d922f1e9f47e"
      },
      "outputs": [
        {
          "output_type": "execute_result",
          "data": {
            "text/plain": [
              "array([-0.5, -5. ])"
            ]
          },
          "metadata": {},
          "execution_count": 25
        }
      ],
      "source": [
        "np.percentile(ar, 25, axis = 1)"
      ]
    },
    {
      "cell_type": "code",
      "execution_count": null,
      "metadata": {
        "colab": {
          "base_uri": "https://localhost:8080/"
        },
        "id": "3Z__KB45PDy9",
        "outputId": "f63d7bab-3391-4a21-ca6b-f419a30e0ea2"
      },
      "outputs": [
        {
          "output_type": "execute_result",
          "data": {
            "text/plain": [
              "array([ 1., -4.])"
            ]
          },
          "metadata": {},
          "execution_count": 26
        }
      ],
      "source": [
        "np.percentile(ar, 50, axis = 1)"
      ]
    },
    {
      "cell_type": "code",
      "execution_count": null,
      "metadata": {
        "colab": {
          "base_uri": "https://localhost:8080/"
        },
        "id": "ESLJ-8ATPDy-",
        "outputId": "c8230425-61d6-43c6-85a0-c0e95d1ed0e7"
      },
      "outputs": [
        {
          "output_type": "execute_result",
          "data": {
            "text/plain": [
              "array([2. , 0.5])"
            ]
          },
          "metadata": {},
          "execution_count": 27
        }
      ],
      "source": [
        "np.percentile(ar, 75, axis = 1)"
      ]
    },
    {
      "cell_type": "code",
      "execution_count": null,
      "metadata": {
        "colab": {
          "base_uri": "https://localhost:8080/"
        },
        "id": "yG07-GrvPDy_",
        "outputId": "af562d13-f5f4-4de4-c226-3b9bf5366053"
      },
      "outputs": [
        {
          "output_type": "execute_result",
          "data": {
            "text/plain": [
              "-3.5"
            ]
          },
          "metadata": {},
          "execution_count": 28
        }
      ],
      "source": [
        "np.percentile(ar, 25)"
      ]
    },
    {
      "cell_type": "code",
      "execution_count": null,
      "metadata": {
        "colab": {
          "base_uri": "https://localhost:8080/"
        },
        "id": "vL1jErDIPDzA",
        "outputId": "aa103487-658e-476b-dac8-5854052dcac2"
      },
      "outputs": [
        {
          "output_type": "execute_result",
          "data": {
            "text/plain": [
              "-0.5"
            ]
          },
          "metadata": {},
          "execution_count": 29
        }
      ],
      "source": [
        "np.percentile(ar, 50)"
      ]
    },
    {
      "cell_type": "code",
      "execution_count": null,
      "metadata": {
        "colab": {
          "base_uri": "https://localhost:8080/"
        },
        "id": "xXFPuYHtPDzB",
        "outputId": "333fab46-3846-422f-f76e-089f392bef13"
      },
      "outputs": [
        {
          "output_type": "execute_result",
          "data": {
            "text/plain": [
              "2.5"
            ]
          },
          "metadata": {},
          "execution_count": 30
        }
      ],
      "source": [
        "np.percentile(ar, 75)"
      ]
    },
    {
      "cell_type": "markdown",
      "metadata": {
        "id": "PAUWbkmbPDzB"
      },
      "source": [
        "For each column"
      ]
    },
    {
      "cell_type": "code",
      "execution_count": null,
      "metadata": {
        "colab": {
          "base_uri": "https://localhost:8080/"
        },
        "id": "d34bMVMjPDzC",
        "outputId": "cc5df51b-8410-4106-a18e-7c3633b7862b"
      },
      "outputs": [
        {
          "output_type": "execute_result",
          "data": {
            "text/plain": [
              "array([-1.5,  1.5, -1.5])"
            ]
          },
          "metadata": {},
          "execution_count": 31
        }
      ],
      "source": [
        "np.mean(ar, axis = 0)"
      ]
    },
    {
      "cell_type": "code",
      "execution_count": null,
      "metadata": {
        "colab": {
          "base_uri": "https://localhost:8080/"
        },
        "id": "7u4Q2n-tPDzC",
        "outputId": "46789972-78be-45d9-84bb-b364bde86381"
      },
      "outputs": [
        {
          "output_type": "execute_result",
          "data": {
            "text/plain": [
              "array([-1.5,  1.5, -1.5])"
            ]
          },
          "metadata": {},
          "execution_count": 32
        }
      ],
      "source": [
        "np.median(ar, axis = 0)"
      ]
    },
    {
      "cell_type": "code",
      "execution_count": null,
      "metadata": {
        "colab": {
          "base_uri": "https://localhost:8080/"
        },
        "id": "EKjDN0BvPDzD",
        "outputId": "53660ae6-e874-484a-bd66-93ba748437e7"
      },
      "outputs": [
        {
          "output_type": "execute_result",
          "data": {
            "text/plain": [
              "array([2.5, 3.5, 4.5])"
            ]
          },
          "metadata": {},
          "execution_count": 33
        }
      ],
      "source": [
        "np.std(ar, axis = 0)"
      ]
    },
    {
      "cell_type": "code",
      "execution_count": null,
      "metadata": {
        "colab": {
          "base_uri": "https://localhost:8080/"
        },
        "id": "lOy2KB03PDzE",
        "outputId": "9a94277e-44c8-4048-ebde-f91e2d3870a8"
      },
      "outputs": [
        {
          "output_type": "execute_result",
          "data": {
            "text/plain": [
              "array([ 0.66666667, -1.66666667])"
            ]
          },
          "metadata": {},
          "execution_count": 34
        }
      ],
      "source": [
        "np.mean(ar, axis = 1)"
      ]
    },
    {
      "cell_type": "code",
      "execution_count": null,
      "metadata": {
        "colab": {
          "base_uri": "https://localhost:8080/"
        },
        "id": "KoLkBvRiPDzF",
        "outputId": "cbfc5923-2a82-451d-a6d3-6abe721fe2b3"
      },
      "outputs": [
        {
          "output_type": "execute_result",
          "data": {
            "text/plain": [
              "array([ 1., -4.])"
            ]
          },
          "metadata": {},
          "execution_count": 35
        }
      ],
      "source": [
        "np.median(ar, axis = 1)"
      ]
    },
    {
      "cell_type": "code",
      "execution_count": null,
      "metadata": {
        "colab": {
          "base_uri": "https://localhost:8080/"
        },
        "id": "y63oaxpAPDzG",
        "outputId": "033eefa6-b095-4ec6-eb2f-ff1644f0ca33"
      },
      "outputs": [
        {
          "output_type": "execute_result",
          "data": {
            "text/plain": [
              "array([2.05480467, 4.78423336])"
            ]
          },
          "metadata": {},
          "execution_count": 36
        }
      ],
      "source": [
        "np.std(ar, axis = 1)"
      ]
    },
    {
      "cell_type": "code",
      "execution_count": null,
      "metadata": {
        "colab": {
          "base_uri": "https://localhost:8080/"
        },
        "id": "tCpgcbZ3PDzH",
        "outputId": "702bde67-1575-4ea0-df7d-d8e380cef295"
      },
      "outputs": [
        {
          "output_type": "execute_result",
          "data": {
            "text/plain": [
              "-0.5"
            ]
          },
          "metadata": {},
          "execution_count": 37
        }
      ],
      "source": [
        "np.mean(ar)"
      ]
    },
    {
      "cell_type": "code",
      "execution_count": null,
      "metadata": {
        "colab": {
          "base_uri": "https://localhost:8080/"
        },
        "id": "n7c5DNZoPDzI",
        "outputId": "f59d7490-7bc3-42f3-98f9-ff84a976f6fc"
      },
      "outputs": [
        {
          "output_type": "execute_result",
          "data": {
            "text/plain": [
              "-0.5"
            ]
          },
          "metadata": {},
          "execution_count": 38
        }
      ],
      "source": [
        "np.median(ar)"
      ]
    },
    {
      "cell_type": "code",
      "execution_count": null,
      "metadata": {
        "colab": {
          "base_uri": "https://localhost:8080/"
        },
        "id": "L3jIjmshPDze",
        "outputId": "ca1e5cb1-c8fc-4736-f546-ee23fbc7eda7"
      },
      "outputs": [
        {
          "output_type": "execute_result",
          "data": {
            "text/plain": [
              "3.8622100754188224"
            ]
          },
          "metadata": {},
          "execution_count": 39
        }
      ],
      "source": [
        "np.std(ar)"
      ]
    },
    {
      "cell_type": "code",
      "execution_count": null,
      "metadata": {
        "colab": {
          "base_uri": "https://localhost:8080/"
        },
        "id": "yaomt78aPDzf",
        "outputId": "75cf7b66-362a-4956-88a2-2927f5adebd1"
      },
      "outputs": [
        {
          "output_type": "execute_result",
          "data": {
            "text/plain": [
              "array([-2., -2., -1.,  0.,  1.,  1.,  3.])"
            ]
          },
          "metadata": {},
          "execution_count": 40
        }
      ],
      "source": [
        "a = np.array([-1.8, -1.6, -0.5, 0.5,1.6, 1.8, 3.0])\n",
        "np.floor(a)"
      ]
    },
    {
      "cell_type": "code",
      "execution_count": null,
      "metadata": {
        "colab": {
          "base_uri": "https://localhost:8080/"
        },
        "id": "7wzBOMhfPDzf",
        "outputId": "45435800-35a8-4964-b263-a84755079477"
      },
      "outputs": [
        {
          "output_type": "execute_result",
          "data": {
            "text/plain": [
              "array([-1., -1., -0.,  0.,  1.,  1.,  3.])"
            ]
          },
          "metadata": {},
          "execution_count": 41
        }
      ],
      "source": [
        "np.trunc(a)"
      ]
    },
    {
      "cell_type": "code",
      "execution_count": null,
      "metadata": {
        "colab": {
          "base_uri": "https://localhost:8080/"
        },
        "id": "Uh5sBboWPDzg",
        "outputId": "74016047-1390-498d-9449-33b9cc886349"
      },
      "outputs": [
        {
          "output_type": "execute_result",
          "data": {
            "text/plain": [
              "array([-1., -1., -0.,  1.,  2.,  2.,  3.])"
            ]
          },
          "metadata": {},
          "execution_count": 42
        }
      ],
      "source": [
        "np.ceil(a)"
      ]
    },
    {
      "cell_type": "code",
      "execution_count": null,
      "metadata": {
        "colab": {
          "base_uri": "https://localhost:8080/"
        },
        "id": "eY8YrgHuPDzh",
        "outputId": "bd49448c-9419-4d98-d45a-b5e1f50e545e"
      },
      "outputs": [
        {
          "output_type": "execute_result",
          "data": {
            "text/plain": [
              "array([-2., -2., -0.,  0.,  2.,  2.,  3.])"
            ]
          },
          "metadata": {},
          "execution_count": 43
        }
      ],
      "source": [
        "np.round(a)"
      ]
    },
    {
      "cell_type": "markdown",
      "metadata": {
        "id": "H64Rl-47PDzh"
      },
      "source": [
        "Q3: Based on Searching and Sorting\n",
        "(a) For the array: array = np.array([10, 52, 62, 16, 16, 54, 453]), find"
      ]
    },
    {
      "cell_type": "markdown",
      "metadata": {
        "id": "IsR2J6ILPDzh"
      },
      "source": [
        "i. Sorted array"
      ]
    },
    {
      "cell_type": "code",
      "execution_count": null,
      "metadata": {
        "colab": {
          "base_uri": "https://localhost:8080/"
        },
        "id": "lVee2aZOPDzi",
        "outputId": "e017f37a-74f4-4015-ea06-7c8987e60a34"
      },
      "outputs": [
        {
          "output_type": "execute_result",
          "data": {
            "text/plain": [
              "array([ 10,  16,  16,  52,  54,  62, 453])"
            ]
          },
          "metadata": {},
          "execution_count": 44
        }
      ],
      "source": [
        "array = np.array([10, 52, 62, 16, 16, 54, 453])\n",
        "np.sort(array)"
      ]
    },
    {
      "cell_type": "markdown",
      "metadata": {
        "id": "YiZl_4VDPDzi"
      },
      "source": [
        "ii. Indices of sorted array"
      ]
    },
    {
      "cell_type": "code",
      "execution_count": null,
      "metadata": {
        "colab": {
          "base_uri": "https://localhost:8080/"
        },
        "id": "sjYMstqKPDzj",
        "outputId": "0b12b7b6-80ae-436b-d2b0-446e1f264535"
      },
      "outputs": [
        {
          "output_type": "execute_result",
          "data": {
            "text/plain": [
              "array([0, 3, 4, 1, 5, 2, 6])"
            ]
          },
          "metadata": {},
          "execution_count": 45
        }
      ],
      "source": [
        "np.argsort(array)"
      ]
    },
    {
      "cell_type": "markdown",
      "metadata": {
        "id": "vpy8WTB-PDzj"
      },
      "source": [
        "iii. 4 smallest elements"
      ]
    },
    {
      "cell_type": "code",
      "execution_count": null,
      "metadata": {
        "colab": {
          "base_uri": "https://localhost:8080/"
        },
        "id": "UdJs9euyPDzj",
        "outputId": "a542fc1b-877b-40ef-e170-89ae53f98e96"
      },
      "outputs": [
        {
          "output_type": "execute_result",
          "data": {
            "text/plain": [
              "array([16, 10, 16, 52])"
            ]
          },
          "metadata": {},
          "execution_count": 46
        }
      ],
      "source": [
        "array[np.argpartition(array, 4)[:4]]"
      ]
    },
    {
      "cell_type": "markdown",
      "metadata": {
        "id": "6cOrfGdOPDzk"
      },
      "source": [
        "iv. 5 largest elements"
      ]
    },
    {
      "cell_type": "code",
      "execution_count": null,
      "metadata": {
        "colab": {
          "base_uri": "https://localhost:8080/"
        },
        "id": "Ece0nlsQPDzk",
        "outputId": "08020acc-fa8f-4fc2-b274-6514a900ec44"
      },
      "outputs": [
        {
          "output_type": "execute_result",
          "data": {
            "text/plain": [
              "array([10, 16, 16, 52, 62])"
            ]
          },
          "metadata": {},
          "execution_count": 47
        }
      ],
      "source": [
        "array[np.argpartition(array, -5)[:5]]"
      ]
    },
    {
      "cell_type": "markdown",
      "metadata": {
        "id": "eiuNGYU1PDzl"
      },
      "source": []
    },
    {
      "cell_type": "code",
      "execution_count": null,
      "metadata": {
        "colab": {
          "base_uri": "https://localhost:8080/"
        },
        "id": "Un3QgBPePDzm",
        "outputId": "4807be07-c22f-4e1f-bcc1-71a150a09816"
      },
      "outputs": [
        {
          "output_type": "stream",
          "name": "stdout",
          "text": [
            "[1.0, 2.0, 3.0, 2.0, 5]\n",
            "[1.2, 2.2]\n"
          ]
        }
      ],
      "source": [
        "array = np.array([1.0, 1.2, 2.2, 2.0, 3.0, 2.0, 5], dtype = object)\n",
        "integer_arr = []\n",
        "float_arr = []\n",
        "for i in array :\n",
        "    if np.equal(np.mod(i, 1), 0) :\n",
        "        integer_arr.append(i)\n",
        "    else:\n",
        "        float_arr.append(i)\n",
        "print(integer_arr)\n",
        "print(float_arr)"
      ]
    },
    {
      "cell_type": "markdown",
      "metadata": {
        "id": "Z68XbQ5MPDzn"
      },
      "source": [
        "Q4:\n",
        "(a) Write a function named img_to_array(path) that reads an image from a specified path and\n",
        "save it as text file on local machine? (Note: use separate cases for RGB and Grey Scale\n",
        "images)"
      ]
    },
    {
      "cell_type": "code",
      "execution_count": null,
      "metadata": {
        "id": "UnBQvHciPDzo"
      },
      "outputs": [],
      "source": [
        "from PIL import Image"
      ]
    },
    {
      "cell_type": "code",
      "execution_count": null,
      "metadata": {
        "id": "Br8FtOliPDzp"
      },
      "outputs": [],
      "source": [
        "def img_to_array(path):\n",
        "  img = Image.open(path)\n",
        "  if img.mode == 'RGB':\n",
        "    arr = np.array(img)\n",
        "    with open('rgb_image.txt', 'w') as f:\n",
        "      for row in arr:\n",
        "        np.savetxt(f, row, fmt='%d')\n",
        "  elif img.mode == 'L':\n",
        "    arr = np.array(img)\n",
        "    with open('grey_scale_image.txt', 'w') as f:\n",
        "      np.savetxt(f, arr, fmt='%d')"
      ]
    },
    {
      "cell_type": "code",
      "execution_count": null,
      "metadata": {
        "id": "E6E3UEexPDzp"
      },
      "outputs": [],
      "source": [
        "imagepath = '/content/aachen_000005_000019_leftImg8bit_foggy_beta_0.02_fake_0.png'\n",
        "img_to_array(imagepath)"
      ]
    },
    {
      "cell_type": "code",
      "execution_count": null,
      "metadata": {
        "id": "u_DA3XgjPDzq"
      },
      "outputs": [],
      "source": [
        "imagepath = '/content/gray_scale.jpeg'\n",
        "img_to_array(imagepath)"
      ]
    },
    {
      "cell_type": "markdown",
      "metadata": {
        "id": "0MlKmUIJPDzq"
      },
      "source": [
        "(b) Load the saved file into jupyter notebook?"
      ]
    },
    {
      "cell_type": "code",
      "execution_count": null,
      "metadata": {
        "colab": {
          "base_uri": "https://localhost:8080/"
        },
        "id": "czCBBRITPDzq",
        "outputId": "4869c634-4319-4c51-e7c0-25edc8f421bc"
      },
      "outputs": [
        {
          "output_type": "execute_result",
          "data": {
            "text/plain": [
              "array([[40., 49., 49.],\n",
              "       [34., 47., 46.],\n",
              "       [34., 46., 46.],\n",
              "       ...,\n",
              "       [42., 55., 49.],\n",
              "       [39., 54., 47.],\n",
              "       [41., 54., 47.]])"
            ]
          },
          "metadata": {},
          "execution_count": 54
        }
      ],
      "source": [
        "np.loadtxt('rgb_image.txt')"
      ]
    },
    {
      "cell_type": "code",
      "execution_count": null,
      "metadata": {
        "colab": {
          "base_uri": "https://localhost:8080/"
        },
        "id": "yIQYGvBuPDzr",
        "outputId": "236c1af7-2a55-4032-d966-f52f6f08f46e"
      },
      "outputs": [
        {
          "output_type": "execute_result",
          "data": {
            "text/plain": [
              "array([[149., 152., 156., ...,  74.,  74.,  74.],\n",
              "       [157., 159., 161., ...,  74.,  74.,  74.],\n",
              "       [165., 167., 168., ...,  74.,  74.,  74.],\n",
              "       ...,\n",
              "       [192., 192., 192., ..., 190., 188., 187.],\n",
              "       [192., 192., 192., ..., 190., 188., 187.],\n",
              "       [192., 192., 192., ..., 190., 188., 187.]])"
            ]
          },
          "metadata": {},
          "execution_count": 55
        }
      ],
      "source": [
        "np.loadtxt('grey_scale_image.txt')"
      ]
    }
  ],
  "metadata": {
    "colab": {
      "provenance": [],
      "include_colab_link": true
    },
    "kernelspec": {
      "display_name": "Python 3",
      "name": "python3"
    },
    "language_info": {
      "codemirror_mode": {
        "name": "ipython",
        "version": 3
      },
      "file_extension": ".py",
      "mimetype": "text/x-python",
      "name": "python",
      "nbconvert_exporter": "python",
      "pygments_lexer": "ipython3",
      "version": "3.12.1"
    }
  },
  "nbformat": 4,
  "nbformat_minor": 0
}